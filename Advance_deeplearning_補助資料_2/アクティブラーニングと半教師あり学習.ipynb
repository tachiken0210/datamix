{
 "cells": [
  {
   "cell_type": "markdown",
   "metadata": {},
   "source": [
    "# アクティブラーニングと半教師あり学習\n",
    "アクティブラーニングと半教師あり学習についてMNISTのデータセットを用いて学びます。 "
   ]
  },
  {
   "cell_type": "code",
   "execution_count": 1,
   "metadata": {},
   "outputs": [
    {
     "name": "stderr",
     "output_type": "stream",
     "text": [
      "/Users/yuza/anaconda3/lib/python3.6/site-packages/h5py/__init__.py:36: FutureWarning: Conversion of the second argument of issubdtype from `float` to `np.floating` is deprecated. In future, it will be treated as `np.float64 == np.dtype(float).type`.\n",
      "  from ._conv import register_converters as _register_converters\n"
     ]
    }
   ],
   "source": [
    "from chainer import Chain, configuration\n",
    "import chainer.links as L\n",
    "import chainer.functions as F\n",
    "from chainer.optimizers import Adam\n",
    "from chainer.datasets import mnist\n",
    "from chainer.iterators import SerialIterator\n",
    "from chainer.training import StandardUpdater, Trainer\n",
    "from chainer.training.extensions import PrintReport, LogReport, Evaluator\n",
    "from sklearn.model_selection import train_test_split\n",
    "from chainer import serializers\n",
    "import os\n",
    "import pickle\n",
    "import numpy as np\n",
    "import matplotlib.pyplot as plt\n",
    "%matplotlib inline\n",
    "np.random.seed(0)"
   ]
  },
  {
   "cell_type": "markdown",
   "metadata": {},
   "source": [
    "## データの取得\n",
    "MNISTのデータをトレーニングデータとテストデータに分けた状態でダウンロードします。"
   ]
  },
  {
   "cell_type": "code",
   "execution_count": 2,
   "metadata": {},
   "outputs": [
    {
     "name": "stdout",
     "output_type": "stream",
     "text": [
      "(60000, 1, 28, 28)\n",
      "(60000,)\n",
      "(10000, 1, 28, 28)\n",
      "(10000,)\n"
     ]
    }
   ],
   "source": [
    "train_all, test =  mnist.get_mnist(ndim=3)\n",
    "\n",
    "print(train_all._datasets[0].shape)\n",
    "print(train_all._datasets[1].shape)\n",
    "print(test._datasets[0].shape)\n",
    "print(test._datasets[1].shape)"
   ]
  },
  {
   "cell_type": "markdown",
   "metadata": {},
   "source": [
    "次にトレーニングデータについて、ラベリングされたものとラベリングされて無いものを分けます。ここでは5000データのみラベリング済みとし、10000データがラベリングされてないものとします。"
   ]
  },
  {
   "cell_type": "code",
   "execution_count": 3,
   "metadata": {},
   "outputs": [
    {
     "name": "stdout",
     "output_type": "stream",
     "text": [
      "(5000, 1, 28, 28)\n",
      "(10000, 1, 28, 28)\n",
      "(5000,)\n"
     ]
    }
   ],
   "source": [
    "num_initial_data = 5000\n",
    "\n",
    "x_train = train_all._datasets[0][:num_initial_data]\n",
    "x_train_sub = train_all._datasets[0][num_initial_data:][:10000]\n",
    "y_train = train_all._datasets[1][:num_initial_data]\n",
    "#y_train_sub = train_all._datasets[1][1000:]\n",
    "\n",
    "print(x_train.shape)\n",
    "print(x_train_sub.shape)\n",
    "print(y_train.shape)"
   ]
  },
  {
   "cell_type": "markdown",
   "metadata": {},
   "source": [
    "## ラベリングされたデータを用いてのモデルの学習\n",
    "まずラベリングされたトレーニングデータ5000データを学習させます。  \n",
    "以下はchainerに読み込ませるための変換を行います。"
   ]
  },
  {
   "cell_type": "code",
   "execution_count": 4,
   "metadata": {},
   "outputs": [],
   "source": [
    "def merge_data(x,y):\n",
    "    return [(x[i,:], y[i]) for i in range(len(x))]\n",
    "\n",
    "train = merge_data(x_train,y_train)"
   ]
  },
  {
   "cell_type": "markdown",
   "metadata": {},
   "source": [
    "モデルを作成し、学習させます。  \n",
    "※今回はデモなので時間削減のため、5000データをある程度学習させたモデルパラメータをあらかじめ読み込みます。  \n",
    "学習後、モデルパラメータを読み込みます。"
   ]
  },
  {
   "cell_type": "code",
   "execution_count": 5,
   "metadata": {},
   "outputs": [],
   "source": [
    "class Model(Chain):\n",
    "    def __init__(self):\n",
    "        super(Model, self).__init__()\n",
    "        with self.init_scope():\n",
    "            self.conv = L.Convolution2D(1, 16, ksize=3)\n",
    "            self.batch = L.BatchNormalization(16)\n",
    "            self.linear = L.Linear(10)\n",
    "    \n",
    "    def __call__(self, x):\n",
    "        h = self.conv(x)\n",
    "        h = F.relu(h)\n",
    "        h = F.max_pooling_2d(h, ksize=3)\n",
    "        h = self.batch(h)\n",
    "        h = self.linear(h)\n",
    "        return h"
   ]
  },
  {
   "cell_type": "code",
   "execution_count": 6,
   "metadata": {},
   "outputs": [
    {
     "name": "stdout",
     "output_type": "stream",
     "text": [
      "iteration   main/loss   test/main/loss\n",
      "\u001b[J10          0.0060729   0.108515        \n",
      "\u001b[J20          0.00697613  0.121079        \n",
      "\u001b[J30          0.00984654  0.113697        \n",
      "\u001b[J40          0.00820407  0.110952        \n",
      "\u001b[J50          0.00843164  0.119867        \n",
      "\u001b[J60          0.00511516  0.11353         \n",
      "\u001b[J70          0.00345013  0.112007        \n",
      "\u001b[J80          0.0040657   0.11467         \n",
      "\u001b[J90          0.00410856  0.110514        \n"
     ]
    }
   ],
   "source": [
    "model = Model()\n",
    "serializers.load_npz(\"model_initial\", model)\n",
    "classifier = L.Classifier(model)\n",
    "optimizer = Adam()\n",
    "optimizer.setup(classifier)\n",
    "train_iterator = SerialIterator(train, batch_size=100, repeat=True)\n",
    "test_iterator = SerialIterator(test, batch_size=100, shuffle=False, repeat=False)\n",
    "updater = StandardUpdater(train_iterator, optimizer, loss_func=classifier)\n",
    "trainer = Trainer(updater, (100, 'iteration'))\n",
    "trainer.extend(Evaluator(test_iterator, classifier), trigger=(10, 'iteration'), name=\"test\")\n",
    "trainer.extend(PrintReport(['iteration', \"main/loss\", \"test/main/loss\"]))\n",
    "\n",
    "logreport = LogReport(trigger=(10, 'iteration'))\n",
    "trainer.extend(logreport)\n",
    "trainer.run()\n",
    "serializers.save_npz('model', model)"
   ]
  },
  {
   "cell_type": "markdown",
   "metadata": {},
   "source": [
    "テストデータを用いて分類精度を確認してみましょう。  "
   ]
  },
  {
   "cell_type": "code",
   "execution_count": 7,
   "metadata": {},
   "outputs": [
    {
     "name": "stdout",
     "output_type": "stream",
     "text": [
      "*** Scores for Test data ***\n",
      "             precision    recall  f1-score   support\n",
      "\n",
      "        0.0       0.97      0.99      0.98       980\n",
      "        1.0       0.98      0.99      0.98      1135\n",
      "        2.0       0.96      0.96      0.96      1032\n",
      "        3.0       0.97      0.96      0.97      1010\n",
      "        4.0       0.96      0.98      0.97       982\n",
      "        5.0       0.97      0.96      0.96       892\n",
      "        6.0       0.98      0.98      0.98       958\n",
      "        7.0       0.97      0.95      0.96      1028\n",
      "        8.0       0.96      0.93      0.95       974\n",
      "        9.0       0.94      0.96      0.95      1009\n",
      "\n",
      "avg / total       0.97      0.97      0.97     10000\n",
      "\n"
     ]
    }
   ],
   "source": [
    "from sklearn.metrics import classification_report\n",
    "\n",
    "with configuration.using_config('train', False):\n",
    "    predicts = model(np.array([data[0] for data in test], dtype=np.float32))\n",
    "predicts = np.array([predict.data for predict in predicts])\n",
    "predicts_y = np.argmax(predicts, axis=1)\n",
    "\n",
    "print(\"*** Scores for Test data ***\")\n",
    "print(classification_report(np.array([data[1] for data in test], dtype=np.float32), predicts_y))"
   ]
  },
  {
   "cell_type": "markdown",
   "metadata": {},
   "source": [
    "この時点でもある程度の精度は出ていますが、ラベリングされたデータを追加して学習させることによりより高い精度がだせるモデルを作っていきます。"
   ]
  },
  {
   "cell_type": "markdown",
   "metadata": {},
   "source": [
    "## 半教師あり学習とアクティブラーニング\n",
    "続いて半教師あり学習とアクティブラーニングの２つを用いてラベリングを効率的に行い、それをモデルに学習させていきます。　\n",
    "### ◯半教師あり学習：  \n",
    "ある程度学習させたモデルに対して、ラベリングされてないデータについて分類確率を予測させ、\n",
    "測結果をラベルづけを行います。これは半教師あり学習の中でもブートストラップ法と呼ばれます。\n",
    "### ◯アクティブラーニング：\n",
    "予測が曖昧になってしまうデータを選びそれに対して人工的にラベリングする方法。ここではラベリングされてないデータについて分類結果を予測させた時に「1番目に確率の高いラベル」の確率ー「2番目に確率の高いラベル」の確率　が\n",
    "小さくなるデータを選び、それに対してのみ人の手でラベルづけを行います。"
   ]
  },
  {
   "cell_type": "code",
   "execution_count": 8,
   "metadata": {},
   "outputs": [],
   "source": [
    "\n",
    "#アクティブラーニングに用いる「1番目に確率の高いラベル」の確率ー「2番目に確率の高いラベル」の確率　が小さくなるデータを選びます。\n",
    "def get_low_margin(proba, bound):\n",
    "    lm = []\n",
    "    for i in range(len(proba)):\n",
    "        margin = proba[i][np.argsort(proba[i])][-1] - proba[i][np.argsort(proba[i])][-2]\n",
    "        if margin < bound:\n",
    "            lm.append([i,margin])\n",
    "    return lm\n",
    "\n",
    "#半教師あり学習に用いる予測の信頼度の高いデータのみ選びます。\n",
    "def get_high_proba(proba, bound):\n",
    "    hp = []\n",
    "    for i in range(len(proba)):\n",
    "        for p in range(len(proba[i])):\n",
    "            if proba[i,p] > bound:\n",
    "                hp.append([i,p])\n",
    "    return hp\n",
    "\n",
    "def getdata_from_index(data,index):\n",
    "    return data[index]\n",
    "\n",
    "#アクティブラーニングに関しては手動でラベリングします。\n",
    "def add_label(x_train,index):\n",
    "    selected_x_train = getdata_from_index(x_train,index)\n",
    "    labels = []\n",
    "    for i,d in enumerate(selected_x_train):\n",
    "        print(\"{0}/{1}\".format(i+1,selected_x_train.shape[0]))\n",
    "        plt.imshow(np.reshape(d,[28,28]),cmap=\"gray_r\")\n",
    "        plt.show()\n",
    "        label = input(\"enter label here\")\n",
    "        labels.append(int(label))\n",
    "    print(\"finished\")\n",
    "    selected_x_train = selected_x_train[:len(labels)]\n",
    "    return selected_x_train,labels\n",
    "\n",
    "#半教師あり学習とアクティブラーニングによってラベリングし、そのデータを学習データに入れます。\n",
    "def concat_data(proba,x_train,y_train,x_train_sub,proba_limit, margin_limit):\n",
    "    print(\"total number of data is {0}\".format(x_train_sub.shape[0]))\n",
    "    lm = get_low_margin(proba, margin_limit)\n",
    "    print(\"number of data with first and second choice probability lower than {0}: {1}\".format(margin_limit,len(lm)))\n",
    "    hp = get_high_proba(proba, proba_limit)\n",
    "    print(\"number of data with probability higher than {0}: {1}\".format(proba_limit,len(hp)))\n",
    "    lm_index = np.array(lm,dtype = \"int64\")[:,0]\n",
    "    lm_x_train, lm_y_train = add_label(x_train_sub,lm_index)\n",
    "    \n",
    "    hp_index = np.array(hp,dtype = \"int64\")[:,0]\n",
    "    hp_x_train = getdata_from_index(x_train_sub,hp_index)\n",
    "    hp_y_train = np.array(hp,dtype = \"int64\")[:,1]\n",
    "    \n",
    "    selected_index = np.concatenate((lm_index,hp_index))   \n",
    "    selected_x_train = np.concatenate((lm_x_train,hp_x_train))\n",
    "    selected_y_train = np.concatenate((lm_y_train,hp_y_train))\n",
    "    \n",
    "    new_x_train = np.concatenate((x_train,selected_x_train))\n",
    "    new_y_train = np.concatenate((y_train,selected_y_train))\n",
    "    new_x_train_sub = np.delete(x_train_sub,selected_index,axis=0)\n",
    "    \n",
    "    print(\"{0} was added to training data\".format(selected_x_train.shape[0]))\n",
    "    \n",
    "    return new_x_train,new_y_train,new_x_train_sub"
   ]
  },
  {
   "cell_type": "code",
   "execution_count": 9,
   "metadata": {},
   "outputs": [],
   "source": [
    "#モデルの出力をsoftmax関数により確率に変換します。\n",
    "def softmax(x):\n",
    "    exp_x = np.exp(x)\n",
    "    y = exp_x / np.sum(np.exp(x), axis=1, keepdims=True)\n",
    "    return y\n",
    "\n",
    "proba = softmax(model(x_train_sub).data)"
   ]
  },
  {
   "cell_type": "code",
   "execution_count": 10,
   "metadata": {
    "scrolled": true
   },
   "outputs": [
    {
     "name": "stdout",
     "output_type": "stream",
     "text": [
      "total number of data is 10000\n",
      "number of data with first and second choice probability lower than 0.01: 5\n",
      "number of data with probability higher than 0.95: 9069\n",
      "1/5\n"
     ]
    },
    {
     "data": {
      "image/png": "[encoded data removed]",
      "text/plain": [
       "<matplotlib.figure.Figure at 0x1a0f0f1668>"
      ]
     },
     "metadata": {},
     "output_type": "display_data"
    },
    {
     "name": "stdout",
     "output_type": "stream",
     "text": [
      "enter label here8\n",
      "2/5\n"
     ]
    },
    {
     "data": {
      "image/png": "[encoded data removed]",
      "text/plain": [
       "<matplotlib.figure.Figure at 0x1a1d232c88>"
      ]
     },
     "metadata": {},
     "output_type": "display_data"
    },
    {
     "name": "stdout",
     "output_type": "stream",
     "text": [
      "enter label here8\n",
      "3/5\n"
     ]
    },
    {
     "data": {
      "image/png": "[encoded data removed]",
      "text/plain": [
       "<matplotlib.figure.Figure at 0x1a1d6e5780>"
      ]
     },
     "metadata": {},
     "output_type": "display_data"
    },
    {
     "name": "stdout",
     "output_type": "stream",
     "text": [
      "enter label here7\n",
      "4/5\n"
     ]
    },
    {
     "data": {
      "image/png": "[encoded data removed]",
      "text/plain": [
       "<matplotlib.figure.Figure at 0x1a1d7bf320>"
      ]
     },
     "metadata": {},
     "output_type": "display_data"
    },
    {
     "name": "stdout",
     "output_type": "stream",
     "text": [
      "enter label here3\n",
      "5/5\n"
     ]
    },
    {
     "data": {
      "image/png": "[encoded data removed]",
      "text/plain": [
       "<matplotlib.figure.Figure at 0x1a1d8a0940>"
      ]
     },
     "metadata": {},
     "output_type": "display_data"
    },
    {
     "name": "stdout",
     "output_type": "stream",
     "text": [
      "enter label here9\n",
      "finished\n",
      "9074 was added to training data\n"
     ]
    }
   ],
   "source": [
    "x_train,y_train,x_train_sub = concat_data(proba,x_train,y_train,x_train_sub ,proba_limit = 0.95, margin_limit = 0.01 )"
   ]
  },
  {
   "cell_type": "markdown",
   "metadata": {},
   "source": [
    "半教師あり学習とアクティブラーニングにより、データがラベリングされました。その後のデータ数を確認しましょう。"
   ]
  },
  {
   "cell_type": "code",
   "execution_count": 11,
   "metadata": {},
   "outputs": [
    {
     "name": "stdout",
     "output_type": "stream",
     "text": [
      "(14074, 1, 28, 28)\n",
      "(926, 1, 28, 28)\n",
      "(14074,)\n"
     ]
    }
   ],
   "source": [
    "print(x_train.shape)\n",
    "print(x_train_sub.shape)\n",
    "print(y_train.shape)"
   ]
  },
  {
   "cell_type": "markdown",
   "metadata": {},
   "source": [
    "## 再学習\n",
    "以降は同じ内容を繰り返し、ラベリングを行います。\n",
    "新しく得られたラベリングされたデータを含むデータを用いて再度学習を行います。モデルパラメータは先ほど保存したものを使います。"
   ]
  },
  {
   "cell_type": "code",
   "execution_count": null,
   "metadata": {},
   "outputs": [],
   "source": [
    "train = merge_data(x_train,y_train)"
   ]
  },
  {
   "cell_type": "code",
   "execution_count": null,
   "metadata": {},
   "outputs": [
    {
     "name": "stdout",
     "output_type": "stream",
     "text": [
      "iteration   main/loss   test/main/loss\n",
      "\u001b[J10          0.00329909  0.115291        \n",
      "\u001b[J20          0.00558301  0.115123        \n",
      "\u001b[J30          0.00296275  0.127474        \n",
      "\u001b[J40          0.00429712  0.117477        \n",
      "\u001b[J50          0.00317604  0.11245         \n",
      "\u001b[J60          0.00366437  0.117579        \n"
     ]
    }
   ],
   "source": [
    "model = Model()\n",
    "serializers.load_npz(\"model\", model)\n",
    "classifier = L.Classifier(model)\n",
    "optimizer = Adam()\n",
    "optimizer.setup(classifier)\n",
    "train_iterator = SerialIterator(train, batch_size=100, repeat=True)\n",
    "test_iterator = SerialIterator(test, batch_size=100, shuffle=False, repeat=False)\n",
    "updater = StandardUpdater(train_iterator, optimizer, loss_func=classifier)\n",
    "trainer = Trainer(updater, (100, 'iteration'))\n",
    "trainer.extend(Evaluator(test_iterator, classifier), trigger=(10, 'iteration'), name=\"test\")\n",
    "trainer.extend(PrintReport(['iteration', \"main/loss\", \"test/main/loss\"]))\n",
    "\n",
    "logreport = LogReport(trigger=(10, 'iteration'))\n",
    "trainer.extend(logreport)\n",
    "trainer.run()\n",
    "serializers.save_npz('model', model)"
   ]
  },
  {
   "cell_type": "markdown",
   "metadata": {},
   "source": [
    "再度半教師あり学習とアクティブラーニングを行います。"
   ]
  },
  {
   "cell_type": "code",
   "execution_count": null,
   "metadata": {},
   "outputs": [],
   "source": [
    "proba = softmax(model(x_train_sub).data)\n",
    "x_train,y_train,x_train_sub = concat_data(proba,x_train,y_train,x_train_sub ,proba_limit = 0.95, margin_limit = 0.01 )"
   ]
  },
  {
   "cell_type": "markdown",
   "metadata": {},
   "source": [
    "データ数を確認しましょう。"
   ]
  },
  {
   "cell_type": "code",
   "execution_count": null,
   "metadata": {},
   "outputs": [],
   "source": [
    "print(x_train.shape)\n",
    "print(x_train_sub.shape)\n",
    "print(y_train.shape)"
   ]
  },
  {
   "cell_type": "markdown",
   "metadata": {},
   "source": [
    "以降はこのサイクルを繰り返して行くことで、ラベリングとモデルの学習を行なっていきます。"
   ]
  },
  {
   "cell_type": "code",
   "execution_count": null,
   "metadata": {},
   "outputs": [],
   "source": []
  }
 ],
 "metadata": {
  "kernelspec": {
   "display_name": "Python 3",
   "language": "python",
   "name": "python3"
  },
  "language_info": {
   "codemirror_mode": {
    "name": "ipython",
    "version": 3
   },
   "file_extension": ".py",
   "mimetype": "text/x-python",
   "name": "python",
   "nbconvert_exporter": "python",
   "pygments_lexer": "ipython3",
   "version": "3.6.4"
  }
 },
 "nbformat": 4,
 "nbformat_minor": 2
}
